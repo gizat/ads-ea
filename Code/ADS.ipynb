{
 "cells": [
  {
   "cell_type": "code",
   "execution_count": 14,
   "metadata": {},
   "outputs": [
    {
     "ename": "ImportError",
     "evalue": "dlopen(/Users/gizatm/Applications/anaconda3/lib/python3.6/site-packages/fiona/ogrext.cpython-36m-darwin.so, 2): Library not loaded: @rpath/libpoppler.71.dylib\n  Referenced from: /Users/gizatm/Applications/anaconda3/lib/libgdal.20.dylib\n  Reason: image not found",
     "output_type": "error",
     "traceback": [
      "\u001b[0;31m---------------------------------------------------------------------------\u001b[0m",
      "\u001b[0;31mImportError\u001b[0m                               Traceback (most recent call last)",
      "\u001b[0;32m<ipython-input-14-f8014ce67aa6>\u001b[0m in \u001b[0;36m<module>\u001b[0;34m\u001b[0m\n\u001b[0;32m----> 1\u001b[0;31m \u001b[0;32mimport\u001b[0m \u001b[0mgeopandas\u001b[0m \u001b[0;32mas\u001b[0m \u001b[0mgpd\u001b[0m\u001b[0;34m\u001b[0m\u001b[0;34m\u001b[0m\u001b[0m\n\u001b[0m\u001b[1;32m      2\u001b[0m \u001b[0mshapefile\u001b[0m \u001b[0;34m=\u001b[0m \u001b[0mgpd\u001b[0m\u001b[0;34m.\u001b[0m\u001b[0mread_file\u001b[0m\u001b[0;34m(\u001b[0m\u001b[0;34m\"public/Grid_5km_ENG_ONLY_with_PUBLIC_USE_dataset.shp\"\u001b[0m\u001b[0;34m)\u001b[0m\u001b[0;34m\u001b[0m\u001b[0;34m\u001b[0m\u001b[0m\n\u001b[1;32m      3\u001b[0m \u001b[0mshapefile\u001b[0m\u001b[0;34m.\u001b[0m\u001b[0mhead\u001b[0m\u001b[0;34m(\u001b[0m\u001b[0;34m)\u001b[0m\u001b[0;34m\u001b[0m\u001b[0;34m\u001b[0m\u001b[0m\n",
      "\u001b[0;32m~/Applications/anaconda3/lib/python3.6/site-packages/geopandas/__init__.py\u001b[0m in \u001b[0;36m<module>\u001b[0;34m\u001b[0m\n\u001b[1;32m      2\u001b[0m \u001b[0;32mfrom\u001b[0m \u001b[0mgeopandas\u001b[0m\u001b[0;34m.\u001b[0m\u001b[0mgeodataframe\u001b[0m \u001b[0;32mimport\u001b[0m \u001b[0mGeoDataFrame\u001b[0m\u001b[0;34m\u001b[0m\u001b[0;34m\u001b[0m\u001b[0m\n\u001b[1;32m      3\u001b[0m \u001b[0;34m\u001b[0m\u001b[0m\n\u001b[0;32m----> 4\u001b[0;31m \u001b[0;32mfrom\u001b[0m \u001b[0mgeopandas\u001b[0m\u001b[0;34m.\u001b[0m\u001b[0mio\u001b[0m\u001b[0;34m.\u001b[0m\u001b[0mfile\u001b[0m \u001b[0;32mimport\u001b[0m \u001b[0mread_file\u001b[0m\u001b[0;34m\u001b[0m\u001b[0;34m\u001b[0m\u001b[0m\n\u001b[0m\u001b[1;32m      5\u001b[0m \u001b[0;32mfrom\u001b[0m \u001b[0mgeopandas\u001b[0m\u001b[0;34m.\u001b[0m\u001b[0mio\u001b[0m\u001b[0;34m.\u001b[0m\u001b[0msql\u001b[0m \u001b[0;32mimport\u001b[0m \u001b[0mread_postgis\u001b[0m\u001b[0;34m\u001b[0m\u001b[0;34m\u001b[0m\u001b[0m\n\u001b[1;32m      6\u001b[0m \u001b[0;32mfrom\u001b[0m \u001b[0mgeopandas\u001b[0m\u001b[0;34m.\u001b[0m\u001b[0mtools\u001b[0m \u001b[0;32mimport\u001b[0m \u001b[0msjoin\u001b[0m\u001b[0;34m\u001b[0m\u001b[0;34m\u001b[0m\u001b[0m\n",
      "\u001b[0;32m~/Applications/anaconda3/lib/python3.6/site-packages/geopandas/io/file.py\u001b[0m in \u001b[0;36m<module>\u001b[0;34m\u001b[0m\n\u001b[1;32m      1\u001b[0m \u001b[0;32mimport\u001b[0m \u001b[0mos\u001b[0m\u001b[0;34m\u001b[0m\u001b[0;34m\u001b[0m\u001b[0m\n\u001b[1;32m      2\u001b[0m \u001b[0;34m\u001b[0m\u001b[0m\n\u001b[0;32m----> 3\u001b[0;31m \u001b[0;32mimport\u001b[0m \u001b[0mfiona\u001b[0m\u001b[0;34m\u001b[0m\u001b[0;34m\u001b[0m\u001b[0m\n\u001b[0m\u001b[1;32m      4\u001b[0m \u001b[0;32mimport\u001b[0m \u001b[0mnumpy\u001b[0m \u001b[0;32mas\u001b[0m \u001b[0mnp\u001b[0m\u001b[0;34m\u001b[0m\u001b[0;34m\u001b[0m\u001b[0m\n\u001b[1;32m      5\u001b[0m \u001b[0;32mimport\u001b[0m \u001b[0msix\u001b[0m\u001b[0;34m\u001b[0m\u001b[0;34m\u001b[0m\u001b[0m\n",
      "\u001b[0;32m~/Applications/anaconda3/lib/python3.6/site-packages/fiona/__init__.py\u001b[0m in \u001b[0;36m<module>\u001b[0;34m\u001b[0m\n\u001b[1;32m     67\u001b[0m \u001b[0;32mfrom\u001b[0m \u001b[0msix\u001b[0m \u001b[0;32mimport\u001b[0m \u001b[0mstring_types\u001b[0m\u001b[0;34m\u001b[0m\u001b[0;34m\u001b[0m\u001b[0m\n\u001b[1;32m     68\u001b[0m \u001b[0;34m\u001b[0m\u001b[0m\n\u001b[0;32m---> 69\u001b[0;31m \u001b[0;32mfrom\u001b[0m \u001b[0mfiona\u001b[0m\u001b[0;34m.\u001b[0m\u001b[0mcollection\u001b[0m \u001b[0;32mimport\u001b[0m \u001b[0mCollection\u001b[0m\u001b[0;34m,\u001b[0m \u001b[0mBytesCollection\u001b[0m\u001b[0;34m,\u001b[0m \u001b[0mvsi_path\u001b[0m\u001b[0;34m\u001b[0m\u001b[0;34m\u001b[0m\u001b[0m\n\u001b[0m\u001b[1;32m     70\u001b[0m \u001b[0;32mfrom\u001b[0m \u001b[0mfiona\u001b[0m\u001b[0;34m.\u001b[0m\u001b[0m_drivers\u001b[0m \u001b[0;32mimport\u001b[0m \u001b[0mdriver_count\u001b[0m\u001b[0;34m,\u001b[0m \u001b[0mGDALEnv\u001b[0m\u001b[0;34m\u001b[0m\u001b[0;34m\u001b[0m\u001b[0m\n\u001b[1;32m     71\u001b[0m \u001b[0;32mfrom\u001b[0m \u001b[0mfiona\u001b[0m\u001b[0;34m.\u001b[0m\u001b[0mdrvsupport\u001b[0m \u001b[0;32mimport\u001b[0m \u001b[0msupported_drivers\u001b[0m\u001b[0;34m\u001b[0m\u001b[0;34m\u001b[0m\u001b[0m\n",
      "\u001b[0;32m~/Applications/anaconda3/lib/python3.6/site-packages/fiona/collection.py\u001b[0m in \u001b[0;36m<module>\u001b[0;34m\u001b[0m\n\u001b[1;32m      7\u001b[0m \u001b[0;34m\u001b[0m\u001b[0m\n\u001b[1;32m      8\u001b[0m \u001b[0;32mfrom\u001b[0m \u001b[0mfiona\u001b[0m \u001b[0;32mimport\u001b[0m \u001b[0mcompat\u001b[0m\u001b[0;34m\u001b[0m\u001b[0;34m\u001b[0m\u001b[0m\n\u001b[0;32m----> 9\u001b[0;31m \u001b[0;32mfrom\u001b[0m \u001b[0mfiona\u001b[0m\u001b[0;34m.\u001b[0m\u001b[0mogrext\u001b[0m \u001b[0;32mimport\u001b[0m \u001b[0mIterator\u001b[0m\u001b[0;34m,\u001b[0m \u001b[0mItemsIterator\u001b[0m\u001b[0;34m,\u001b[0m \u001b[0mKeysIterator\u001b[0m\u001b[0;34m\u001b[0m\u001b[0;34m\u001b[0m\u001b[0m\n\u001b[0m\u001b[1;32m     10\u001b[0m \u001b[0;32mfrom\u001b[0m \u001b[0mfiona\u001b[0m\u001b[0;34m.\u001b[0m\u001b[0mogrext\u001b[0m \u001b[0;32mimport\u001b[0m \u001b[0mSession\u001b[0m\u001b[0;34m,\u001b[0m \u001b[0mWritingSession\u001b[0m\u001b[0;34m\u001b[0m\u001b[0;34m\u001b[0m\u001b[0m\n\u001b[1;32m     11\u001b[0m from fiona.ogrext import (\n",
      "\u001b[0;31mImportError\u001b[0m: dlopen(/Users/gizatm/Applications/anaconda3/lib/python3.6/site-packages/fiona/ogrext.cpython-36m-darwin.so, 2): Library not loaded: @rpath/libpoppler.71.dylib\n  Referenced from: /Users/gizatm/Applications/anaconda3/lib/libgdal.20.dylib\n  Reason: image not found"
     ]
    }
   ],
   "source": [
    "import geopandas as gpd\n",
    "shapefile = gpd.read_file(\"public/Grid_5km_ENG_ONLY_with_PUBLIC_USE_dataset.shp\")\n",
    "shapefile.head()"
   ]
  },
  {
   "cell_type": "code",
   "execution_count": 7,
   "metadata": {},
   "outputs": [
    {
     "ename": "NameError",
     "evalue": "name 'shapefile' is not defined",
     "output_type": "error",
     "traceback": [
      "\u001b[0;31m---------------------------------------------------------------------------\u001b[0m",
      "\u001b[0;31mNameError\u001b[0m                                 Traceback (most recent call last)",
      "\u001b[0;32m<ipython-input-7-c144c9ae8285>\u001b[0m in \u001b[0;36m<module>\u001b[0;34m\u001b[0m\n\u001b[0;32m----> 1\u001b[0;31m \u001b[0mshapefile\u001b[0m\u001b[0;34m.\u001b[0m\u001b[0mplot\u001b[0m\u001b[0;34m(\u001b[0m\u001b[0mcolumn\u001b[0m\u001b[0;34m=\u001b[0m\u001b[0;34m'M17'\u001b[0m\u001b[0;34m,\u001b[0m \u001b[0mcmap\u001b[0m\u001b[0;34m=\u001b[0m\u001b[0;32mNone\u001b[0m\u001b[0;34m)\u001b[0m\u001b[0;34m\u001b[0m\u001b[0;34m\u001b[0m\u001b[0m\n\u001b[0m",
      "\u001b[0;31mNameError\u001b[0m: name 'shapefile' is not defined"
     ]
    }
   ],
   "source": [
    "shapefile.plot(column='M17', cmap=None)"
   ]
  },
  {
   "cell_type": "code",
   "execution_count": null,
   "metadata": {},
   "outputs": [],
   "source": [
    "shapefile.crs"
   ]
  },
  {
   "cell_type": "code",
   "execution_count": null,
   "metadata": {},
   "outputs": [],
   "source": [
    "shapefile['geometry']"
   ]
  },
  {
   "cell_type": "code",
   "execution_count": null,
   "metadata": {},
   "outputs": [],
   "source": [
    "crs_shapefile = shapefile.copy()\n",
    "crs_shapefile = crs_shapefile.to_crs(epsg=4326)"
   ]
  },
  {
   "cell_type": "code",
   "execution_count": null,
   "metadata": {},
   "outputs": [],
   "source": [
    "crs_shapefile['geometry']"
   ]
  },
  {
   "cell_type": "code",
   "execution_count": null,
   "metadata": {},
   "outputs": [],
   "source": [
    "for i in len(crs_shapefile['geometry']):\n",
    "    print(i)"
   ]
  },
  {
   "cell_type": "code",
   "execution_count": null,
   "metadata": {},
   "outputs": [],
   "source": [
    "crs_shapefile.index"
   ]
  },
  {
   "cell_type": "code",
   "execution_count": null,
   "metadata": {},
   "outputs": [],
   "source": [
    "crs_shapefile.columns"
   ]
  },
  {
   "cell_type": "code",
   "execution_count": null,
   "metadata": {},
   "outputs": [],
   "source": [
    "print(crs_shapefile['geometry'][0])"
   ]
  },
  {
   "cell_type": "code",
   "execution_count": null,
   "metadata": {},
   "outputs": [],
   "source": [
    "crs_shapefile['geometry'][0]"
   ]
  },
  {
   "cell_type": "code",
   "execution_count": null,
   "metadata": {},
   "outputs": [],
   "source": [
    "print(crs_shapefile['geometry'][0].centroid)"
   ]
  },
  {
   "cell_type": "code",
   "execution_count": null,
   "metadata": {},
   "outputs": [],
   "source": [
    "master_shp = crs_shapefile.copy()\n",
    "\n",
    "points = []\n",
    "\n",
    "for index, row in crs_shapefile.iterrows():\n",
    "    points.append(row['geometry'].centroid)\n",
    "\n",
    "master_shp['geometry'] = points\n",
    "master_shp.plot(column='A1', cmap=None)"
   ]
  },
  {
   "cell_type": "code",
   "execution_count": null,
   "metadata": {},
   "outputs": [],
   "source": [
    "crs_shapefile.plot(column='A1', cmap=None)"
   ]
  },
  {
   "cell_type": "code",
   "execution_count": null,
   "metadata": {},
   "outputs": [],
   "source": [
    "master_shp['geometry']"
   ]
  },
  {
   "cell_type": "code",
   "execution_count": null,
   "metadata": {},
   "outputs": [],
   "source": [
    "# Print oats\n",
    "master_shp.plot(column='A4', cmap=None)"
   ]
  },
  {
   "cell_type": "code",
   "execution_count": null,
   "metadata": {},
   "outputs": [],
   "source": [
    "master_shp.to_csv('example.csv')"
   ]
  },
  {
   "cell_type": "code",
   "execution_count": null,
   "metadata": {},
   "outputs": [],
   "source": [
    "import pandas as pd\n",
    "import geopandas as gpd\n",
    "from shapely.geometry import Point\n",
    "import matplotlib.pyplot as plt\n",
    "\n",
    "industrial_objects = gpd.read_file(\"industry.csv\")\n",
    "\n",
    "df = pd.DataFrame({\n",
    "    'Location':industrial_objects['Name'],\n",
    "    'Latitude':industrial_objects['Latitude'],\n",
    "    'Longitude':industrial_objects['Longitude']\n",
    "})\n",
    "\n",
    "df['Latitude'] = df['Latitude'].astype(float)\n",
    "df['Longitude'] = df['Longitude'].astype(float)\n",
    "\n",
    "df['Coordinates'] = list(zip(df.Longitude, df.Latitude))\n",
    "\n",
    "df['Coordinates'] = df['Coordinates'].apply(Point)\n",
    "\n",
    "gdf = gpd.GeoDataFrame(df, geometry='Coordinates')\n",
    "\n",
    "fig, ax = plt.subplots()\n",
    "\n",
    "ax.set_aspect('equal')\n",
    "\n",
    "# Print total wheat\n",
    "master_shp.plot(ax=ax, column='A1', cmap=None)\n",
    "\n",
    "gdf.plot(ax=ax, color='red', markersize=5)"
   ]
  },
  {
   "cell_type": "code",
   "execution_count": null,
   "metadata": {},
   "outputs": [],
   "source": [
    "master_shp.head()"
   ]
  },
  {
   "cell_type": "code",
   "execution_count": null,
   "metadata": {},
   "outputs": [],
   "source": [
    "# Print total cattle\n",
    "master_shp.plot(column='K299', cmap=None)"
   ]
  },
  {
   "cell_type": "code",
   "execution_count": null,
   "metadata": {},
   "outputs": [],
   "source": [
    "# Print total poultry\n",
    "master_shp.plot(column='N98', cmap=None)"
   ]
  },
  {
   "cell_type": "code",
   "execution_count": null,
   "metadata": {},
   "outputs": [],
   "source": [
    "import pandas as pd\n",
    "import geopandas\n",
    "from shapely.geometry import Point\n",
    "import matplotlib.pyplot as plt\n",
    "\n",
    "df = pd.DataFrame(\n",
    "    {'City': ['Buenos Aires', 'Brasilia', 'Santiago', 'Bogota', 'Caracas'],\n",
    "     'Country': ['Argentina', 'Brazil', 'Chile', 'Colombia', 'Venezuela'],\n",
    "     'Latitude': [-34.58, -15.78, -33.45, 4.60, 10.48],\n",
    "     'Longitude': [-58.66, -47.91, -70.66, -74.08, -66.86]})\n",
    "\n",
    "df['Coordinates'] = list(zip(df.Longitude, df.Latitude))\n",
    "\n",
    "df['Coordinates'] = df['Coordinates'].apply(Point)\n",
    "\n",
    "gdf = geopandas.GeoDataFrame(df, geometry='Coordinates')\n",
    "\n",
    "print(gdf.head())\n",
    "\n",
    "world = geopandas.read_file(geopandas.datasets.get_path('naturalearth_lowres'))\n",
    "\n",
    "# We restrict to South America.\n",
    "ax = world[world.continent == 'South America'].plot(\n",
    "    color='white', edgecolor='black')\n",
    "\n",
    "# We can now plot our GeoDataFrame.\n",
    "gdf.plot(ax=ax, color='red')\n",
    "\n",
    "plt.show()"
   ]
  },
  {
   "cell_type": "code",
   "execution_count": null,
   "metadata": {},
   "outputs": [],
   "source": [
    "import os\n",
    "import pandas as pd\n",
    "import pymongo\n",
    "import json\n",
    "import urllib.parse\n",
    "\n",
    "class ads_mongo:\n",
    "    dbname = ''\n",
    "    addr = ''\n",
    "    client = ''\n",
    "    cli_db = ''\n",
    "\n",
    "    def __init__(self, addr):\n",
    "        self.addr = urllib.parse.quote_plus(addr)\n",
    "\n",
    "    def connMongo(self, id, pwd, dbname):\n",
    "        tmp_id = urllib.parse.quote_plus(id)\n",
    "        tmp_pwd = urllib.parse.quote_plus(pwd)\n",
    "        self.dbname = urllib.parse.quote_plus(dbname)\n",
    "        self.client = pymongo.MongoClient('mongodb://%s:%s@%s/%s' % (tmp_id, tmp_pwd, self.addr, self.dbname))\n",
    "        self.cli_db = self.client[self.dbname]\n",
    "        print(\"Connected\")\n",
    "        return self.cli_db\n",
    "\n",
    "    def uploadData(self, collection, filepath):\n",
    "        db_col = self.cli_db[collection]\n",
    "        cdir = os.path.abspath(\"\")\n",
    "        file_res = os.path.join(cdir, filepath)\n",
    "\n",
    "        data = pd.read_csv(file_res)\n",
    "        data_json = json.loads(data.to_json(orient='records'))\n",
    "        db_col.remove()\n",
    "        print(\"Uploading data to Database ... \")\n",
    "        db_col.insert(data_json)\n",
    "        print(\"Uploaded.\")\n",
    "\n",
    "    def downloadData(self, collection, filepath, format, query = {}):\n",
    "        if format == 'json':\n",
    "            print(\"Not support yet\")\n",
    "\n",
    "        elif format == 'csv':\n",
    "            print(\"Downloading data to local ... \")\n",
    "            cursor = self.cli_db[collection].find(query)\n",
    "            df = pd.DataFrame(list(cursor))\n",
    "            del df['_id']\n",
    "            df.to_csv(filepath, index=False)\n",
    "            print(\"Downloaded as csv format\")\n",
    "\n",
    "        else:\n",
    "            print(\"No exist format\")\n",
    "\n",
    "    def collectionQuery(self, collection, operator, query = {}, save_in_local = False, filepath = 'result.csv'):\n",
    "        op = operator\n",
    "        if op == 'find':\n",
    "            cs = self.cli_db[collection].find(query)\n",
    "        elif op == 'aggregate':\n",
    "            cs = self.cli_db[collection].aggregate(query)\n",
    "        elif op == 'insert':\n",
    "            self.cli_db[collection].insert(query)\n",
    "            return\n",
    "        elif op == 'delete':\n",
    "            self.cli_db[collection].delete(query)\n",
    "            return\n",
    "        elif op == 'drop':\n",
    "            self.cli_db[collection].drop()\n",
    "            return\n",
    "        else:\n",
    "            print(\"Not exist operator\")\n",
    "\n",
    "        df = pd.DataFrame(list(cs))\n",
    "        del df['_id']\n",
    "\n",
    "        if save_in_local == True:\n",
    "            df.to_csv(filepath, index=False)\n",
    "\n",
    "        return df"
   ]
  },
  {
   "cell_type": "code",
   "execution_count": null,
   "metadata": {},
   "outputs": [],
   "source": [
    "import os, sys\n",
    "os_path = os.path.abspath(\"\")\n",
    "\n",
    "my_ads = ads_mongo('184.73.62.140')\n",
    "client = my_ads.connMongo('user1', 'P@ssword', 'env')\n",
    "file = \"/Users/gizatm/Workshop/Python/geo/master.csv\"\n",
    "my_ads.uploadData('FieldShape', file)"
   ]
  },
  {
   "cell_type": "code",
   "execution_count": null,
   "metadata": {},
   "outputs": [],
   "source": [
    "cs = client.FieldShape.find({ \"ID\": 500131})\n",
    "df = pd.DataFrame(list(cs))\n",
    "df.head()"
   ]
  },
  {
   "cell_type": "markdown",
   "metadata": {},
   "source": [
    "--------------------------------"
   ]
  },
  {
   "cell_type": "code",
   "execution_count": 8,
   "metadata": {},
   "outputs": [
    {
     "data": {
      "text/html": [
       "<div>\n",
       "<style scoped>\n",
       "    .dataframe tbody tr th:only-of-type {\n",
       "        vertical-align: middle;\n",
       "    }\n",
       "\n",
       "    .dataframe tbody tr th {\n",
       "        vertical-align: top;\n",
       "    }\n",
       "\n",
       "    .dataframe thead th {\n",
       "        text-align: right;\n",
       "    }\n",
       "</style>\n",
       "<table border=\"1\" class=\"dataframe\">\n",
       "  <thead>\n",
       "    <tr style=\"text-align: right;\">\n",
       "      <th></th>\n",
       "      <th>Unnamed: 0</th>\n",
       "      <th>ID</th>\n",
       "      <th>E</th>\n",
       "      <th>N</th>\n",
       "      <th>ID_5kmsq</th>\n",
       "      <th>OID_</th>\n",
       "      <th>UNIQUE</th>\n",
       "      <th>A1</th>\n",
       "      <th>A2</th>\n",
       "      <th>A3</th>\n",
       "      <th>...</th>\n",
       "      <th>M9</th>\n",
       "      <th>M13M14</th>\n",
       "      <th>M17</th>\n",
       "      <th>M98</th>\n",
       "      <th>L1TOL5</th>\n",
       "      <th>L9L14</th>\n",
       "      <th>L98</th>\n",
       "      <th>N98</th>\n",
       "      <th>P90</th>\n",
       "      <th>geometry</th>\n",
       "    </tr>\n",
       "  </thead>\n",
       "  <tbody>\n",
       "    <tr>\n",
       "      <th>0</th>\n",
       "      <td>0</td>\n",
       "      <td>500131</td>\n",
       "      <td>87500</td>\n",
       "      <td>7500</td>\n",
       "      <td>5.001319e+10</td>\n",
       "      <td>0</td>\n",
       "      <td>0.000000e+00</td>\n",
       "      <td>0.00000</td>\n",
       "      <td>0.00000</td>\n",
       "      <td>0.00000</td>\n",
       "      <td>...</td>\n",
       "      <td>0.00000</td>\n",
       "      <td>0.00000</td>\n",
       "      <td>0.00000</td>\n",
       "      <td>0.00000</td>\n",
       "      <td>0.00000</td>\n",
       "      <td>0.00000</td>\n",
       "      <td>0.00000</td>\n",
       "      <td>0.00000</td>\n",
       "      <td>0.00000</td>\n",
       "      <td>POINT (-6.352077147598139 49.8859481769574)</td>\n",
       "    </tr>\n",
       "    <tr>\n",
       "      <th>1</th>\n",
       "      <td>1</td>\n",
       "      <td>500132</td>\n",
       "      <td>92500</td>\n",
       "      <td>7500</td>\n",
       "      <td>5.001329e+10</td>\n",
       "      <td>0</td>\n",
       "      <td>0.000000e+00</td>\n",
       "      <td>0.00000</td>\n",
       "      <td>0.00000</td>\n",
       "      <td>0.00000</td>\n",
       "      <td>...</td>\n",
       "      <td>0.00000</td>\n",
       "      <td>0.00000</td>\n",
       "      <td>0.00000</td>\n",
       "      <td>0.00000</td>\n",
       "      <td>0.00000</td>\n",
       "      <td>0.00000</td>\n",
       "      <td>0.00000</td>\n",
       "      <td>0.00000</td>\n",
       "      <td>0.00000</td>\n",
       "      <td>POINT (-6.28267254272897 49.8885373817449)</td>\n",
       "    </tr>\n",
       "    <tr>\n",
       "      <th>2</th>\n",
       "      <td>2</td>\n",
       "      <td>500261</td>\n",
       "      <td>87500</td>\n",
       "      <td>12500</td>\n",
       "      <td>5.002619e+10</td>\n",
       "      <td>0</td>\n",
       "      <td>0.000000e+00</td>\n",
       "      <td>0.00000</td>\n",
       "      <td>0.00000</td>\n",
       "      <td>0.00000</td>\n",
       "      <td>...</td>\n",
       "      <td>0.00000</td>\n",
       "      <td>0.00000</td>\n",
       "      <td>0.00000</td>\n",
       "      <td>0.00000</td>\n",
       "      <td>0.00000</td>\n",
       "      <td>0.00000</td>\n",
       "      <td>0.00000</td>\n",
       "      <td>0.00000</td>\n",
       "      <td>0.00000</td>\n",
       "      <td>POINT (-6.356121648555834 49.93078789271393)</td>\n",
       "    </tr>\n",
       "    <tr>\n",
       "      <th>3</th>\n",
       "      <td>3</td>\n",
       "      <td>500262</td>\n",
       "      <td>92500</td>\n",
       "      <td>12500</td>\n",
       "      <td>5.002629e+10</td>\n",
       "      <td>0</td>\n",
       "      <td>0.000000e+00</td>\n",
       "      <td>0.00000</td>\n",
       "      <td>0.00000</td>\n",
       "      <td>0.00000</td>\n",
       "      <td>...</td>\n",
       "      <td>0.00000</td>\n",
       "      <td>0.00000</td>\n",
       "      <td>0.00000</td>\n",
       "      <td>0.00000</td>\n",
       "      <td>0.00000</td>\n",
       "      <td>0.00000</td>\n",
       "      <td>0.00000</td>\n",
       "      <td>0.00000</td>\n",
       "      <td>0.00000</td>\n",
       "      <td>POINT (-6.286653033960608 49.93338118711554)</td>\n",
       "    </tr>\n",
       "    <tr>\n",
       "      <th>4</th>\n",
       "      <td>4</td>\n",
       "      <td>500277</td>\n",
       "      <td>167500</td>\n",
       "      <td>12500</td>\n",
       "      <td>5.002772e+11</td>\n",
       "      <td>763</td>\n",
       "      <td>5.002772e+11</td>\n",
       "      <td>2.04042</td>\n",
       "      <td>0.48581</td>\n",
       "      <td>13.67248</td>\n",
       "      <td>...</td>\n",
       "      <td>2.09074</td>\n",
       "      <td>4.23281</td>\n",
       "      <td>171.97077</td>\n",
       "      <td>279.72148</td>\n",
       "      <td>1.06781</td>\n",
       "      <td>20.00601</td>\n",
       "      <td>21.07383</td>\n",
       "      <td>23.59964</td>\n",
       "      <td>4.97716</td>\n",
       "      <td>POINT (-5.243511148962318 49.96729097961222)</td>\n",
       "    </tr>\n",
       "  </tbody>\n",
       "</table>\n",
       "<p>5 rows × 57 columns</p>\n",
       "</div>"
      ],
      "text/plain": [
       "   Unnamed: 0      ID       E      N      ID_5kmsq  OID_        UNIQUE  \\\n",
       "0           0  500131   87500   7500  5.001319e+10     0  0.000000e+00   \n",
       "1           1  500132   92500   7500  5.001329e+10     0  0.000000e+00   \n",
       "2           2  500261   87500  12500  5.002619e+10     0  0.000000e+00   \n",
       "3           3  500262   92500  12500  5.002629e+10     0  0.000000e+00   \n",
       "4           4  500277  167500  12500  5.002772e+11   763  5.002772e+11   \n",
       "\n",
       "        A1       A2        A3                      ...                       \\\n",
       "0  0.00000  0.00000   0.00000                      ...                        \n",
       "1  0.00000  0.00000   0.00000                      ...                        \n",
       "2  0.00000  0.00000   0.00000                      ...                        \n",
       "3  0.00000  0.00000   0.00000                      ...                        \n",
       "4  2.04042  0.48581  13.67248                      ...                        \n",
       "\n",
       "        M9   M13M14        M17        M98   L1TOL5     L9L14       L98  \\\n",
       "0  0.00000  0.00000    0.00000    0.00000  0.00000   0.00000   0.00000   \n",
       "1  0.00000  0.00000    0.00000    0.00000  0.00000   0.00000   0.00000   \n",
       "2  0.00000  0.00000    0.00000    0.00000  0.00000   0.00000   0.00000   \n",
       "3  0.00000  0.00000    0.00000    0.00000  0.00000   0.00000   0.00000   \n",
       "4  2.09074  4.23281  171.97077  279.72148  1.06781  20.00601  21.07383   \n",
       "\n",
       "        N98      P90                                      geometry  \n",
       "0   0.00000  0.00000   POINT (-6.352077147598139 49.8859481769574)  \n",
       "1   0.00000  0.00000    POINT (-6.28267254272897 49.8885373817449)  \n",
       "2   0.00000  0.00000  POINT (-6.356121648555834 49.93078789271393)  \n",
       "3   0.00000  0.00000  POINT (-6.286653033960608 49.93338118711554)  \n",
       "4  23.59964  4.97716  POINT (-5.243511148962318 49.96729097961222)  \n",
       "\n",
       "[5 rows x 57 columns]"
      ]
     },
     "execution_count": 8,
     "metadata": {},
     "output_type": "execute_result"
    }
   ],
   "source": [
    "import pandas\n",
    "import json\n",
    "\n",
    "data_frame = pandas.read_csv(\n",
    "    'master.csv'\n",
    ")\n",
    "\n",
    "data_frame[data_frame.columns[:]].head()"
   ]
  },
  {
   "cell_type": "code",
   "execution_count": 9,
   "metadata": {},
   "outputs": [
    {
     "data": {
      "text/plain": [
       "Unnamed: 0      int64\n",
       "ID              int64\n",
       "E               int64\n",
       "N               int64\n",
       "ID_5kmsq      float64\n",
       "OID_            int64\n",
       "UNIQUE        float64\n",
       "A1            float64\n",
       "A2            float64\n",
       "A3            float64\n",
       "A2A3          float64\n",
       "A4            float64\n",
       "A10A11        float64\n",
       "A12           float64\n",
       "A19           float64\n",
       "A21           float64\n",
       "A22           float64\n",
       "A23           float64\n",
       "A24           float64\n",
       "A25           float64\n",
       "A27           float64\n",
       "A31           float64\n",
       "A32           float64\n",
       "A99G1         float64\n",
       "B5B14         float64\n",
       "B21           float64\n",
       "B99           float64\n",
       "C1            float64\n",
       "G1            float64\n",
       "G2            float64\n",
       "G5            float64\n",
       "K201          float64\n",
       "K202          float64\n",
       "K203          float64\n",
       "K204          float64\n",
       "K205          float64\n",
       "K206          float64\n",
       "K207          float64\n",
       "K208          float64\n",
       "K209          float64\n",
       "K210          float64\n",
       "K211          float64\n",
       "K299          float64\n",
       "M1M4M7        float64\n",
       "M1            float64\n",
       "M4            float64\n",
       "M7            float64\n",
       "M9            float64\n",
       "M13M14        float64\n",
       "M17           float64\n",
       "M98           float64\n",
       "L1TOL5        float64\n",
       "L9L14         float64\n",
       "L98           float64\n",
       "N98           float64\n",
       "P90           float64\n",
       "geometry       object\n",
       "dtype: object"
      ]
     },
     "execution_count": 9,
     "metadata": {},
     "output_type": "execute_result"
    }
   ],
   "source": [
    "data_frame.dtypes"
   ]
  },
  {
   "cell_type": "code",
   "execution_count": 10,
   "metadata": {},
   "outputs": [],
   "source": [
    "json_result_string = data_frame.to_json(\n",
    "    orient='records', \n",
    "    double_precision=12,\n",
    "    date_format='iso'\n",
    ")\n",
    "json_result = json.loads(json_result_string)"
   ]
  },
  {
   "cell_type": "code",
   "execution_count": null,
   "metadata": {},
   "outputs": [],
   "source": [
    "geojson = {\n",
    "    'type': 'map',\n",
    "    'grids': []\n",
    "}\n",
    "for record in json_result:\n",
    "    geojson['grids'].append({\n",
    "        'type': 'Feature',\n",
    "        'geometry': {\n",
    "            'type': 'Point',\n",
    "            'coordinates': [record['lng'], record['lat']],\n",
    "        },\n",
    "        'properties': record,\n",
    "    })"
   ]
  }
 ],
 "metadata": {
  "kernelspec": {
   "display_name": "Python 3",
   "language": "python",
   "name": "python3"
  },
  "language_info": {
   "codemirror_mode": {
    "name": "ipython",
    "version": 3
   },
   "file_extension": ".py",
   "mimetype": "text/x-python",
   "name": "python",
   "nbconvert_exporter": "python",
   "pygments_lexer": "ipython3",
   "version": "3.6.8"
  }
 },
 "nbformat": 4,
 "nbformat_minor": 2
}
