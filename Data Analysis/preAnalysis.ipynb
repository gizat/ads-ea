{
 "cells": [
  {
   "cell_type": "code",
   "execution_count": 15,
   "metadata": {},
   "outputs": [],
   "source": [
    "import pandas as pd\n",
    "import os\n",
    "import geopandas\n",
    "from shapely.geometry import Point\n",
    "import matplotlib.pyplot as plt"
   ]
  },
  {
   "cell_type": "code",
   "execution_count": 16,
   "metadata": {},
   "outputs": [],
   "source": [
    "df = pd.read_csv('2010.csv')"
   ]
  },
  {
   "cell_type": "code",
   "execution_count": 28,
   "metadata": {},
   "outputs": [
    {
     "data": {
      "text/html": [
       "<div>\n",
       "<style scoped>\n",
       "    .dataframe tbody tr th:only-of-type {\n",
       "        vertical-align: middle;\n",
       "    }\n",
       "\n",
       "    .dataframe tbody tr th {\n",
       "        vertical-align: top;\n",
       "    }\n",
       "\n",
       "    .dataframe thead th {\n",
       "        text-align: right;\n",
       "    }\n",
       "</style>\n",
       "<table border=\"1\" class=\"dataframe\">\n",
       "  <thead>\n",
       "    <tr style=\"text-align: right;\">\n",
       "      <th></th>\n",
       "      <th>id</th>\n",
       "      <th>samplingPoint</th>\n",
       "      <th>samplingPointNotation</th>\n",
       "      <th>samplingPointLabel</th>\n",
       "      <th>sampleDateTime</th>\n",
       "      <th>determinandLabel</th>\n",
       "      <th>determinandDefinition</th>\n",
       "      <th>determinandNotation</th>\n",
       "      <th>resultQualifierNotation</th>\n",
       "      <th>result</th>\n",
       "      <th>codedResultInterpretationInterpretation</th>\n",
       "      <th>determinandUnitLabel</th>\n",
       "      <th>sampledMaterialTypeLabel</th>\n",
       "      <th>isComplianceSample</th>\n",
       "      <th>purposeLabel</th>\n",
       "      <th>easting</th>\n",
       "      <th>northing</th>\n",
       "      <th>Coordinates</th>\n",
       "    </tr>\n",
       "  </thead>\n",
       "  <tbody>\n",
       "    <tr>\n",
       "      <th>0</th>\n",
       "      <td>http://environment.data.gov.uk/water-quality/d...</td>\n",
       "      <td>http://environment.data.gov.uk/water-quality/i...</td>\n",
       "      <td>AN-011262</td>\n",
       "      <td>STEANE PARK THE MANOR HOUSE STW</td>\n",
       "      <td>2010-02-12T14:20:00</td>\n",
       "      <td>D Site Insp</td>\n",
       "      <td>Descriptive Site Inspection : Pass/Fail 1/0</td>\n",
       "      <td>7444</td>\n",
       "      <td>NaN</td>\n",
       "      <td>1.0</td>\n",
       "      <td>NaN</td>\n",
       "      <td>coded</td>\n",
       "      <td>FINAL SEWAGE EFFLUENT</td>\n",
       "      <td>True</td>\n",
       "      <td>COMPLIANCE AUDIT (PERMIT)</td>\n",
       "      <td>455510</td>\n",
       "      <td>239070</td>\n",
       "      <td>POINT (455510 239070)</td>\n",
       "    </tr>\n",
       "    <tr>\n",
       "      <th>1</th>\n",
       "      <td>http://environment.data.gov.uk/water-quality/d...</td>\n",
       "      <td>http://environment.data.gov.uk/water-quality/i...</td>\n",
       "      <td>AN-011262</td>\n",
       "      <td>STEANE PARK THE MANOR HOUSE STW</td>\n",
       "      <td>2010-02-12T14:20:00</td>\n",
       "      <td>Oil &amp; Grs Vs</td>\n",
       "      <td>Visible oil or grease, significant trace: Pres...</td>\n",
       "      <td>664</td>\n",
       "      <td>NaN</td>\n",
       "      <td>0.0</td>\n",
       "      <td>NaN</td>\n",
       "      <td>pres/nf</td>\n",
       "      <td>FINAL SEWAGE EFFLUENT</td>\n",
       "      <td>True</td>\n",
       "      <td>COMPLIANCE AUDIT (PERMIT)</td>\n",
       "      <td>455510</td>\n",
       "      <td>239070</td>\n",
       "      <td>POINT (455510 239070)</td>\n",
       "    </tr>\n",
       "    <tr>\n",
       "      <th>2</th>\n",
       "      <td>http://environment.data.gov.uk/water-quality/d...</td>\n",
       "      <td>http://environment.data.gov.uk/water-quality/i...</td>\n",
       "      <td>AN-011265</td>\n",
       "      <td>BLACKPIT FARM STW STOWE</td>\n",
       "      <td>2010-02-16T13:15:00</td>\n",
       "      <td>D Site Insp</td>\n",
       "      <td>Descriptive Site Inspection : Pass/Fail 1/0</td>\n",
       "      <td>7444</td>\n",
       "      <td>NaN</td>\n",
       "      <td>1.0</td>\n",
       "      <td>NaN</td>\n",
       "      <td>coded</td>\n",
       "      <td>FINAL SEWAGE EFFLUENT</td>\n",
       "      <td>True</td>\n",
       "      <td>COMPLIANCE AUDIT (PERMIT)</td>\n",
       "      <td>467660</td>\n",
       "      <td>239950</td>\n",
       "      <td>POINT (467660 239950)</td>\n",
       "    </tr>\n",
       "    <tr>\n",
       "      <th>3</th>\n",
       "      <td>http://environment.data.gov.uk/water-quality/d...</td>\n",
       "      <td>http://environment.data.gov.uk/water-quality/i...</td>\n",
       "      <td>AN-011265</td>\n",
       "      <td>BLACKPIT FARM STW STOWE</td>\n",
       "      <td>2010-02-16T13:15:00</td>\n",
       "      <td>Oil &amp; Grs Vs</td>\n",
       "      <td>Visible oil or grease, significant trace: Pres...</td>\n",
       "      <td>664</td>\n",
       "      <td>NaN</td>\n",
       "      <td>0.0</td>\n",
       "      <td>NaN</td>\n",
       "      <td>pres/nf</td>\n",
       "      <td>FINAL SEWAGE EFFLUENT</td>\n",
       "      <td>True</td>\n",
       "      <td>COMPLIANCE AUDIT (PERMIT)</td>\n",
       "      <td>467660</td>\n",
       "      <td>239950</td>\n",
       "      <td>POINT (467660 239950)</td>\n",
       "    </tr>\n",
       "    <tr>\n",
       "      <th>4</th>\n",
       "      <td>http://environment.data.gov.uk/water-quality/d...</td>\n",
       "      <td>http://environment.data.gov.uk/water-quality/i...</td>\n",
       "      <td>AN-011396</td>\n",
       "      <td>BUCKINGHAM GOLF CLUB TINGEWICK RD.</td>\n",
       "      <td>2010-01-18T12:40:00</td>\n",
       "      <td>Ammonia(N)</td>\n",
       "      <td>Ammoniacal Nitrogen as N</td>\n",
       "      <td>111</td>\n",
       "      <td>&lt;</td>\n",
       "      <td>0.5</td>\n",
       "      <td>NaN</td>\n",
       "      <td>mg/l</td>\n",
       "      <td>FINAL SEWAGE EFFLUENT</td>\n",
       "      <td>True</td>\n",
       "      <td>COMPLIANCE AUDIT (PERMIT)</td>\n",
       "      <td>467020</td>\n",
       "      <td>233400</td>\n",
       "      <td>POINT (467020 233400)</td>\n",
       "    </tr>\n",
       "  </tbody>\n",
       "</table>\n",
       "</div>"
      ],
      "text/plain": [
       "                                                  id  \\\n",
       "0  http://environment.data.gov.uk/water-quality/d...   \n",
       "1  http://environment.data.gov.uk/water-quality/d...   \n",
       "2  http://environment.data.gov.uk/water-quality/d...   \n",
       "3  http://environment.data.gov.uk/water-quality/d...   \n",
       "4  http://environment.data.gov.uk/water-quality/d...   \n",
       "\n",
       "                                       samplingPoint samplingPointNotation  \\\n",
       "0  http://environment.data.gov.uk/water-quality/i...             AN-011262   \n",
       "1  http://environment.data.gov.uk/water-quality/i...             AN-011262   \n",
       "2  http://environment.data.gov.uk/water-quality/i...             AN-011265   \n",
       "3  http://environment.data.gov.uk/water-quality/i...             AN-011265   \n",
       "4  http://environment.data.gov.uk/water-quality/i...             AN-011396   \n",
       "\n",
       "                   samplingPointLabel       sampleDateTime determinandLabel  \\\n",
       "0     STEANE PARK THE MANOR HOUSE STW  2010-02-12T14:20:00      D Site Insp   \n",
       "1     STEANE PARK THE MANOR HOUSE STW  2010-02-12T14:20:00     Oil & Grs Vs   \n",
       "2             BLACKPIT FARM STW STOWE  2010-02-16T13:15:00      D Site Insp   \n",
       "3             BLACKPIT FARM STW STOWE  2010-02-16T13:15:00     Oil & Grs Vs   \n",
       "4  BUCKINGHAM GOLF CLUB TINGEWICK RD.  2010-01-18T12:40:00       Ammonia(N)   \n",
       "\n",
       "                               determinandDefinition  determinandNotation  \\\n",
       "0        Descriptive Site Inspection : Pass/Fail 1/0                 7444   \n",
       "1  Visible oil or grease, significant trace: Pres...                  664   \n",
       "2        Descriptive Site Inspection : Pass/Fail 1/0                 7444   \n",
       "3  Visible oil or grease, significant trace: Pres...                  664   \n",
       "4                           Ammoniacal Nitrogen as N                  111   \n",
       "\n",
       "  resultQualifierNotation  result  codedResultInterpretationInterpretation  \\\n",
       "0                     NaN     1.0                                      NaN   \n",
       "1                     NaN     0.0                                      NaN   \n",
       "2                     NaN     1.0                                      NaN   \n",
       "3                     NaN     0.0                                      NaN   \n",
       "4                       <     0.5                                      NaN   \n",
       "\n",
       "  determinandUnitLabel sampledMaterialTypeLabel  isComplianceSample  \\\n",
       "0                coded    FINAL SEWAGE EFFLUENT                True   \n",
       "1              pres/nf    FINAL SEWAGE EFFLUENT                True   \n",
       "2                coded    FINAL SEWAGE EFFLUENT                True   \n",
       "3              pres/nf    FINAL SEWAGE EFFLUENT                True   \n",
       "4                 mg/l    FINAL SEWAGE EFFLUENT                True   \n",
       "\n",
       "                purposeLabel  easting  northing            Coordinates  \n",
       "0  COMPLIANCE AUDIT (PERMIT)   455510    239070  POINT (455510 239070)  \n",
       "1  COMPLIANCE AUDIT (PERMIT)   455510    239070  POINT (455510 239070)  \n",
       "2  COMPLIANCE AUDIT (PERMIT)   467660    239950  POINT (467660 239950)  \n",
       "3  COMPLIANCE AUDIT (PERMIT)   467660    239950  POINT (467660 239950)  \n",
       "4  COMPLIANCE AUDIT (PERMIT)   467020    233400  POINT (467020 233400)  "
      ]
     },
     "execution_count": 28,
     "metadata": {},
     "output_type": "execute_result"
    }
   ],
   "source": [
    "df.head()"
   ]
  },
  {
   "cell_type": "code",
   "execution_count": 21,
   "metadata": {},
   "outputs": [],
   "source": [
    "df['Coordinates'] = list(zip(df.easting, df.northing))"
   ]
  },
  {
   "cell_type": "code",
   "execution_count": 19,
   "metadata": {},
   "outputs": [
    {
     "data": {
      "text/plain": [
       "array(['@id', 'sample.samplingPoint', 'sample.samplingPoint.notation',\n",
       "       'sample.samplingPoint.label', 'sample.sampleDateTime',\n",
       "       'determinand.label', 'determinand.definition',\n",
       "       'determinand.notation', 'resultQualifier.notation', 'result',\n",
       "       'codedResultInterpretation.interpretation',\n",
       "       'determinand.unit.label', 'sample.sampledMaterialType.label',\n",
       "       'sample.isComplianceSample', 'sample.purpose.label',\n",
       "       'sample.samplingPoint.easting', 'sample.samplingPoint.northing'],\n",
       "      dtype=object)"
      ]
     },
     "execution_count": 19,
     "metadata": {},
     "output_type": "execute_result"
    }
   ],
   "source": [
    "df.columns.values"
   ]
  },
  {
   "cell_type": "code",
   "execution_count": 20,
   "metadata": {},
   "outputs": [],
   "source": [
    "df.columns = ['id', 'samplingPoint', 'samplingPointNotation',\n",
    "       'samplingPointLabel', 'sampleDateTime',\n",
    "       'determinandLabel', 'determinandDefinition',\n",
    "       'determinandNotation', 'resultQualifierNotation', 'result',\n",
    "       'codedResultInterpretationInterpretation',\n",
    "       'determinandUnitLabel', 'sampledMaterialTypeLabel',\n",
    "       'isComplianceSample', 'purposeLabel',\n",
    "       'easting', 'northing']"
   ]
  },
  {
   "cell_type": "code",
   "execution_count": 23,
   "metadata": {},
   "outputs": [],
   "source": [
    "df['Coordinates'] = df['Coordinates'].apply(Point)"
   ]
  },
  {
   "cell_type": "code",
   "execution_count": 29,
   "metadata": {},
   "outputs": [],
   "source": [
    "gdf = geopandas.GeoDataFrame(df, geometry='Coordinates')"
   ]
  },
  {
   "cell_type": "code",
   "execution_count": 12,
   "metadata": {},
   "outputs": [
    {
     "ename": "NameError",
     "evalue": "name 'gdf' is not defined",
     "output_type": "error",
     "traceback": [
      "\u001b[0;31m---------------------------------------------------------------------------\u001b[0m",
      "\u001b[0;31mNameError\u001b[0m                                 Traceback (most recent call last)",
      "\u001b[0;32m<ipython-input-12-e1d1d669d474>\u001b[0m in \u001b[0;36m<module>\u001b[0;34m\u001b[0m\n\u001b[0;32m----> 1\u001b[0;31m \u001b[0mgdf\u001b[0m\u001b[0;34m.\u001b[0m\u001b[0mcrs\u001b[0m\u001b[0;34m(\u001b[0m\u001b[0mepsg\u001b[0m\u001b[0;34m=\u001b[0m\u001b[0;36m4326\u001b[0m\u001b[0;34m)\u001b[0m\u001b[0;34m\u001b[0m\u001b[0;34m\u001b[0m\u001b[0m\n\u001b[0m",
      "\u001b[0;31mNameError\u001b[0m: name 'gdf' is not defined"
     ]
    }
   ],
   "source": [
    "gdf.crs(epsg=4326)"
   ]
  },
  {
   "cell_type": "code",
   "execution_count": 36,
   "metadata": {},
   "outputs": [
    {
     "name": "stdout",
     "output_type": "stream",
     "text": [
      "                                                  id  \\\n",
      "0  http://environment.data.gov.uk/water-quality/d...   \n",
      "1  http://environment.data.gov.uk/water-quality/d...   \n",
      "2  http://environment.data.gov.uk/water-quality/d...   \n",
      "3  http://environment.data.gov.uk/water-quality/d...   \n",
      "4  http://environment.data.gov.uk/water-quality/d...   \n",
      "\n",
      "                                       samplingPoint samplingPointNotation  \\\n",
      "0  http://environment.data.gov.uk/water-quality/i...             AN-011262   \n",
      "1  http://environment.data.gov.uk/water-quality/i...             AN-011262   \n",
      "2  http://environment.data.gov.uk/water-quality/i...             AN-011265   \n",
      "3  http://environment.data.gov.uk/water-quality/i...             AN-011265   \n",
      "4  http://environment.data.gov.uk/water-quality/i...             AN-011396   \n",
      "\n",
      "                   samplingPointLabel       sampleDateTime determinandLabel  \\\n",
      "0     STEANE PARK THE MANOR HOUSE STW  2010-02-12T14:20:00      D Site Insp   \n",
      "1     STEANE PARK THE MANOR HOUSE STW  2010-02-12T14:20:00     Oil & Grs Vs   \n",
      "2             BLACKPIT FARM STW STOWE  2010-02-16T13:15:00      D Site Insp   \n",
      "3             BLACKPIT FARM STW STOWE  2010-02-16T13:15:00     Oil & Grs Vs   \n",
      "4  BUCKINGHAM GOLF CLUB TINGEWICK RD.  2010-01-18T12:40:00       Ammonia(N)   \n",
      "\n",
      "                               determinandDefinition  determinandNotation  \\\n",
      "0        Descriptive Site Inspection : Pass/Fail 1/0                 7444   \n",
      "1  Visible oil or grease, significant trace: Pres...                  664   \n",
      "2        Descriptive Site Inspection : Pass/Fail 1/0                 7444   \n",
      "3  Visible oil or grease, significant trace: Pres...                  664   \n",
      "4                           Ammoniacal Nitrogen as N                  111   \n",
      "\n",
      "  resultQualifierNotation  result  codedResultInterpretationInterpretation  \\\n",
      "0                     NaN     1.0                                      NaN   \n",
      "1                     NaN     0.0                                      NaN   \n",
      "2                     NaN     1.0                                      NaN   \n",
      "3                     NaN     0.0                                      NaN   \n",
      "4                       <     0.5                                      NaN   \n",
      "\n",
      "  determinandUnitLabel sampledMaterialTypeLabel  isComplianceSample  \\\n",
      "0                coded    FINAL SEWAGE EFFLUENT                True   \n",
      "1              pres/nf    FINAL SEWAGE EFFLUENT                True   \n",
      "2                coded    FINAL SEWAGE EFFLUENT                True   \n",
      "3              pres/nf    FINAL SEWAGE EFFLUENT                True   \n",
      "4                 mg/l    FINAL SEWAGE EFFLUENT                True   \n",
      "\n",
      "                purposeLabel  easting  northing  \\\n",
      "0  COMPLIANCE AUDIT (PERMIT)   455510    239070   \n",
      "1  COMPLIANCE AUDIT (PERMIT)   455510    239070   \n",
      "2  COMPLIANCE AUDIT (PERMIT)   467660    239950   \n",
      "3  COMPLIANCE AUDIT (PERMIT)   467660    239950   \n",
      "4  COMPLIANCE AUDIT (PERMIT)   467020    233400   \n",
      "\n",
      "                                    Coordinates  \n",
      "0  POINT (-1.191989146844981 52.04725150452549)  \n",
      "1  POINT (-1.191989146844981 52.04725150452549)  \n",
      "2  POINT (-1.014674865631893 52.05381469039634)  \n",
      "3  POINT (-1.014674865631893 52.05381469039634)  \n",
      "4  POINT (-1.025287551955748 51.99501206704635)  \n"
     ]
    }
   ],
   "source": [
    "print(gdf.head())"
   ]
  },
  {
   "cell_type": "code",
   "execution_count": 30,
   "metadata": {},
   "outputs": [
    {
     "data": {
      "image/png": "[encoded data removed]",
      "text/plain": [
       "<Figure size 432x288 with 1 Axes>"
      ]
     },
     "metadata": {
      "needs_background": "light"
     },
     "output_type": "display_data"
    }
   ],
   "source": [
    "world = geopandas.read_file(geopandas.datasets.get_path('naturalearth_cities'))\n",
    "\n",
    "# We restrict to South America.\n",
    "ax = world.plot(\n",
    "    color='white', edgecolor='black')\n",
    "\n",
    "# We can now plot our GeoDataFrame.\n",
    "gdf.plot(ax=ax, color='red', marker='.', markersize=1)\n",
    "\n",
    "plt.show()"
   ]
  },
  {
   "cell_type": "code",
   "execution_count": 31,
   "metadata": {},
   "outputs": [],
   "source": [
    "gdf.crs = {'init': 'epsg:27700'}"
   ]
  },
  {
   "cell_type": "code",
   "execution_count": 35,
   "metadata": {},
   "outputs": [],
   "source": [
    "gdf = gdf.to_crs(epsg=4326)"
   ]
  },
  {
   "cell_type": "code",
   "execution_count": 37,
   "metadata": {},
   "outputs": [],
   "source": [
    "gdf.to_csv(r'EAcoords.csv')"
   ]
  },
  {
   "cell_type": "code",
   "execution_count": null,
   "metadata": {},
   "outputs": [],
   "source": []
  }
 ],
 "metadata": {
  "kernelspec": {
   "display_name": "Python 3",
   "language": "python",
   "name": "python3"
  },
  "language_info": {
   "codemirror_mode": {
    "name": "ipython",
    "version": 3
   },
   "file_extension": ".py",
   "mimetype": "text/x-python",
   "name": "python",
   "nbconvert_exporter": "python",
   "pygments_lexer": "ipython3",
   "version": "3.7.1"
  }
 },
 "nbformat": 4,
 "nbformat_minor": 2
}
